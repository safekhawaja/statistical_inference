{
  "nbformat": 4,
  "nbformat_minor": 0,
  "metadata": {
    "colab": {
      "name": "hw1.ipynb",
      "provenance": []
    },
    "kernelspec": {
      "name": "python3",
      "display_name": "Python 3"
    }
  },
  "cells": [
    {
      "cell_type": "markdown",
      "metadata": {
        "id": "948FlPdL1tkO"
      },
      "source": [
        "**Saif Khawaja 87474921**\n",
        "\n",
        "**STAT431 HW1**"
      ]
    },
    {
      "cell_type": "markdown",
      "metadata": {
        "id": "D6qEzPe69IWW"
      },
      "source": [
        "*Question 1*\n",
        "\n",
        "1. Observational study (scientists have no control over a mother's behavior).\n",
        "\n",
        "2. Yes: positive association of body fat with controlling behavior.\n",
        "\n",
        "3. Controlling behavior could serve as a premise for explanation but is not conclusive for confounding variables (eating more, for example, does not necessitate a higher rate of obesity - controlling mothers can also push children to exercise...)\n",
        "\n",
        "4. Said gene can be controlled for in subsequent experiments such that we can find controlled associations but is only a small sample and will not reflect the entire population. The inferred data collected in the study does not reflect any genetic qualities and so does not explain the changes. \n",
        "\n",
        "5. There are many alternative and intermediate reasons why there is an association, such as if the type of food a controlling mother would cook had a higher percentage of fat.  \n",
        "\n",
        "6. One can argue that the data supports the advice as a statment but it is inconclusive and requires more stringent intermediate analysis that studies confounding variables for a conclusion to be drawn. "
      ]
    },
    {
      "cell_type": "markdown",
      "metadata": {
        "id": "eN1ZshlJ9Slg"
      },
      "source": [
        "*Question 2* \n",
        "\n",
        "We can say samples X_i are independent variables and are identically distributed if they are unbiased, which is a fair conckusion given that one sample's values of population will not effect another sample's result (there is replacement). \n",
        "\n",
        "a) Prove the expected value of sample mean is the population mean:\n",
        "\n",
        "E(X) = E(1/n . sum(X_i))\n",
        "\n",
        "= 1/n . E(sum(X_i))\n",
        "\n",
        "Given the identitical distribution, we can say the E(X_i) = P(X = x).x_j = 1/N . sum(x_j).\n",
        "\n",
        "= 1/n . sum(sum 1/N . (x_i))\n",
        "\n",
        "= 1/N . sum(1/n_j) . sum(x_i)\n",
        "\n",
        "= 1/N . sum(x_j)\n",
        "\n",
        "= population mean as defined.\n",
        "\n",
        "b) Prove the expected value of sample variance is the population variance:\n",
        "\n",
        "Given that X_i are independent and identically distributed (iid), we can use the following premises in our proof:\n",
        "\n",
        "1. We will calculate the same result for any of E( (X_i-X_bar^2)^2 ).\n",
        "2. E(X_i.X_j) = E(X_i)E(X_j) = x_bar^2\n",
        "3. E(X_i)^2 = sigma^2 + x_bar^2\n",
        "\n",
        "Let us then use the normal calculations:\n",
        "\n",
        "E ( (X_i - X_bar)^2 ) = E( X_i^2 - 2X_bar.X_i + X_bar^2).\n",
        "\n",
        "= sigma^2 + x_bar^2 -2/n . [E(X_i^2) + sum(E(X_i.X_j)] + E(X_bar^2)\n",
        "\n",
        "= sigma^2 + x_bar^2 -2/n . [sigma^2 + n.x_bar^2] + E(X_bar^2)\n",
        "\n",
        "= (1-2/n).sigma^2 - x_bar^2 + E(1/(n^2).sum(X_i.X_j + X_i^2))\n",
        "\n",
        "= (1-2/n).sigma^2 - x_bar^2 + 1/(n^2).sum(E(X_i.X_j)) + sum(E(X_i^2))\n",
        "\n",
        "= (1-2/n).sigma^2 - x_bar^2 + (1-1/n)x_bar^2 + 1/n(sigma^2 + x_bar^2)\n",
        "\n",
        "= 1-1/n . sigma^2\n",
        "\n",
        "Now to the original proposition, \n",
        "\n",
        "E(s^2) = 1/(n-1) . sum(E( (X_i-X_bar^2)^2 )) \n",
        "\n",
        "= 1/(n-1) . sum((1-1/n).sigma^2)\n",
        "       \n",
        "= sigma^2 as desired.\n",
        "\n"
      ]
    },
    {
      "cell_type": "markdown",
      "metadata": {
        "id": "pCFmfOWRHjyC"
      },
      "source": [
        "*Question 3*\n",
        "\n",
        "a) Systemic Sampling.\n",
        "\n",
        "b) Simple Random Sampling.\n",
        "\n",
        "c) Stratified Sampling."
      ]
    },
    {
      "cell_type": "markdown",
      "metadata": {
        "id": "AUZsdgcHNgDQ"
      },
      "source": [
        "*Question 4*\n",
        "\n",
        "Group 1:\n",
        "\n",
        "Ab3 (positive skew when highest frequency of events in lower ranges)\n",
        "\n",
        "Group 2:\n",
        "\n",
        "Bc2 (negative skew when highest frequency of events in higher ranges)\n",
        "\n",
        "Group 3:\n",
        "\n",
        "Ca1 (approximately normal with fat tails, median of data centered at 0 with outliers on both sides)\n",
        "\n"
      ]
    },
    {
      "cell_type": "code",
      "metadata": {
        "colab": {
          "base_uri": "https://localhost:8080/"
        },
        "id": "dHLwIbfZQcbh",
        "outputId": "2012b712-96a0-420a-d634-cd00d46e4d3d"
      },
      "source": [
        "# Question 5\n",
        "\n",
        "import matplotlib.pyplot as plt\n",
        "import numpy as np\n",
        "import pandas as pd\n",
        "\n",
        "M = []\n",
        "F = []\n",
        "A = []\n",
        "\n",
        "with open('stat431heightgender.txt') as f:\n",
        "    contents = f.readlines()\n",
        "\n",
        "    for row in contents:\n",
        "      fields = row.split(\"\\t\")\n",
        "      gender, height = fields[0], fields[1]\n",
        "\n",
        "      if gender == 'M':\n",
        "        M.append(int(height))\n",
        "      elif gender == 'F':\n",
        "        F.append(int(height))\n",
        "      \n",
        "print(M)\n",
        "print(F)\n",
        "\n",
        "A = M + F\n"
      ],
      "execution_count": null,
      "outputs": [
        {
          "output_type": "stream",
          "text": [
            "[74, 64, 72, 73, 66, 68, 67, 72, 68, 72, 71, 75, 72, 69, 74, 69, 68, 69, 72, 73, 73, 60, 69, 70, 73, 69, 70, 71, 67, 67, 72, 68, 68, 70, 75, 72, 70, 71, 73, 73, 71, 73, 75, 71, 67, 68, 71, 68, 69, 68, 65, 68, 72, 73, 70, 67, 72, 71, 57, 70, 72, 66, 77, 69, 70, 68, 67, 68, 72, 70, 65, 69, 70, 66]\n",
            "[68, 65, 62, 60, 67, 63, 68, 64, 63, 61, 64, 63, 67, 68, 62, 62, 64, 66, 65, 66, 65, 65, 64, 69, 67, 68, 66, 64, 64, 61, 65, 52, 70]\n"
          ],
          "name": "stdout"
        }
      ]
    },
    {
      "cell_type": "code",
      "metadata": {
        "colab": {
          "base_uri": "https://localhost:8080/"
        },
        "id": "tbQVjycLnDCD",
        "outputId": "ca17355d-e18a-4b50-aad4-83d8a2ebbe8e"
      },
      "source": [
        "M = np.array(M)\n",
        "F = np.array(F)\n",
        "A = np.array(A)\n",
        "\n",
        "print('The mean for males is ' + str(np.mean(M)))\n",
        "print('The mean for females is ' + str(np.mean(F)))\n",
        "print('The mean for the sample is ' + str(np.mean(A)))\n",
        "\n",
        "print('The SD for males is ' + str(np.std(M)))\n",
        "print('The SD for females is ' + str(np.std(F)))\n",
        "print('The SD for the sample is ' + str(np.std(A)))"
      ],
      "execution_count": null,
      "outputs": [
        {
          "output_type": "stream",
          "text": [
            "The mean for males is 69.78378378378379\n",
            "The mean for females is 64.48484848484848\n",
            "The mean for the sample is 68.14953271028037\n",
            "The SD for males is 3.256055772939676\n",
            "The SD for females is 3.276372829278911\n",
            "The SD for the sample is 4.078215979571563\n"
          ],
          "name": "stdout"
        }
      ]
    },
    {
      "cell_type": "code",
      "metadata": {
        "colab": {
          "base_uri": "https://localhost:8080/",
          "height": 282
        },
        "id": "u6V2nAb3zXU9",
        "outputId": "263bd672-9275-42a3-b1a6-a7db496b40d4"
      },
      "source": [
        "plt.boxplot(M)\n",
        "print('There appear to be 2 outliers for males')"
      ],
      "execution_count": null,
      "outputs": [
        {
          "output_type": "stream",
          "text": [
            "There appear to be 2 outliers for males\n"
          ],
          "name": "stdout"
        },
        {
          "output_type": "display_data",
          "data": {
            "image/png": "[encoded data removed]",
            "text/plain": [
              "<Figure size 432x288 with 1 Axes>"
            ]
          },
          "metadata": {
            "tags": [],
            "needs_background": "light"
          }
        }
      ]
    },
    {
      "cell_type": "code",
      "metadata": {
        "colab": {
          "base_uri": "https://localhost:8080/",
          "height": 282
        },
        "id": "tI-nxDZVzY6s",
        "outputId": "df99e130-c827-4fa2-93c7-ee5ded6028ec"
      },
      "source": [
        "plt.boxplot(F)\n",
        "print('There appears to be 1 outlier for females')"
      ],
      "execution_count": null,
      "outputs": [
        {
          "output_type": "stream",
          "text": [
            "There appears to be 1 outlier for females\n"
          ],
          "name": "stdout"
        },
        {
          "output_type": "display_data",
          "data": {
            "image/png": "[encoded data removed]",
            "text/plain": [
              "<Figure size 432x288 with 1 Axes>"
            ]
          },
          "metadata": {
            "tags": [],
            "needs_background": "light"
          }
        }
      ]
    },
    {
      "cell_type": "code",
      "metadata": {
        "colab": {
          "base_uri": "https://localhost:8080/",
          "height": 282
        },
        "id": "iBiLC6thzjPi",
        "outputId": "cd6a665f-a46d-46ba-eff1-9e6a4a839dd5"
      },
      "source": [
        "plt.boxplot(A)\n",
        "print('There appear to be 2 outliers for the whole sample; one is male and one is female')"
      ],
      "execution_count": null,
      "outputs": [
        {
          "output_type": "stream",
          "text": [
            "There appear to be 3 outliers for the whole sample\n"
          ],
          "name": "stdout"
        },
        {
          "output_type": "display_data",
          "data": {
            "image/png": "[encoded data removed]",
            "text/plain": [
              "<Figure size 432x288 with 1 Axes>"
            ]
          },
          "metadata": {
            "tags": [],
            "needs_background": "light"
          }
        }
      ]
    },
    {
      "cell_type": "code",
      "metadata": {
        "colab": {
          "base_uri": "https://localhost:8080/",
          "height": 282
        },
        "id": "DcHxLAgDzkXU",
        "outputId": "4b0b8bdf-7a65-43ba-acb3-08b30851f7df"
      },
      "source": [
        "plt.hist(M)\n",
        "print('All histograms are unimodal from the data and are roughly bell shaped. The male modal height is higher than the female height.')"
      ],
      "execution_count": null,
      "outputs": [
        {
          "output_type": "stream",
          "text": [
            "All histograms are unimodal from the data and are roughly bell shaped. The male modal height is higher than the female height.\n"
          ],
          "name": "stdout"
        },
        {
          "output_type": "display_data",
          "data": {
            "image/png": "[encoded data removed]",
            "text/plain": [
              "<Figure size 432x288 with 1 Axes>"
            ]
          },
          "metadata": {
            "tags": [],
            "needs_background": "light"
          }
        }
      ]
    },
    {
      "cell_type": "code",
      "metadata": {
        "colab": {
          "base_uri": "https://localhost:8080/",
          "height": 316
        },
        "id": "KbirDnA6znOX",
        "outputId": "7a96c681-7263-4cf6-b880-64c279b9490f"
      },
      "source": [
        "plt.hist(F)"
      ],
      "execution_count": null,
      "outputs": [
        {
          "output_type": "execute_result",
          "data": {
            "text/plain": [
              "(array([1., 0., 0., 0., 1., 5., 9., 8., 7., 2.]),\n",
              " array([52. , 53.8, 55.6, 57.4, 59.2, 61. , 62.8, 64.6, 66.4, 68.2, 70. ]),\n",
              " <a list of 10 Patch objects>)"
            ]
          },
          "metadata": {
            "tags": []
          },
          "execution_count": 58
        },
        {
          "output_type": "display_data",
          "data": {
            "image/png": "[encoded data removed]",
            "text/plain": [
              "<Figure size 432x288 with 1 Axes>"
            ]
          },
          "metadata": {
            "tags": [],
            "needs_background": "light"
          }
        }
      ]
    },
    {
      "cell_type": "code",
      "metadata": {
        "colab": {
          "base_uri": "https://localhost:8080/",
          "height": 316
        },
        "id": "JYhJfQxqzoYA",
        "outputId": "297f14cc-c230-4d91-8232-4d41a7edf5e1"
      },
      "source": [
        "plt.hist(A)"
      ],
      "execution_count": null,
      "outputs": [
        {
          "output_type": "execute_result",
          "data": {
            "text/plain": [
              "(array([ 1.,  0.,  1.,  4., 13., 13., 33., 17., 21.,  4.]),\n",
              " array([52. , 54.5, 57. , 59.5, 62. , 64.5, 67. , 69.5, 72. , 74.5, 77. ]),\n",
              " <a list of 10 Patch objects>)"
            ]
          },
          "metadata": {
            "tags": []
          },
          "execution_count": 59
        },
        {
          "output_type": "display_data",
          "data": {
            "image/png": "[encoded data removed]",
            "text/plain": [
              "<Figure size 432x288 with 1 Axes>"
            ]
          },
          "metadata": {
            "tags": [],
            "needs_background": "light"
          }
        }
      ]
    },
    {
      "cell_type": "code",
      "metadata": {
        "colab": {
          "base_uri": "https://localhost:8080/",
          "height": 313
        },
        "id": "UbBEHeuI2phi",
        "outputId": "045ae1ba-37bf-4dfb-a0e3-a59f226886d9"
      },
      "source": [
        "import statsmodels.api as sm\n",
        "\n",
        "print(\"All the QQ plots are approximately normal as demonstrated by the figures previously (histograms in particular). \\nWe see that The larger outliers in the female/male QQ plot are reflected in the lack of linearity in the edge values particularly the left skew given the bottom is more divergent.\")\n",
        "fig = sm.qqplot(M)\n",
        "plt.show()"
      ],
      "execution_count": null,
      "outputs": [
        {
          "output_type": "stream",
          "text": [
            "All the QQ plots are approximately normal as demonstrated by the figures previously (histograms in particular). \n",
            "We see that The larger outliers in the female/male QQ plot are reflected in the lack of linearity in the edge values particularly the left skew given the bottom is more divergent.\n"
          ],
          "name": "stdout"
        },
        {
          "output_type": "display_data",
          "data": {
            "image/png": "[encoded data removed]",
            "text/plain": [
              "<Figure size 432x288 with 1 Axes>"
            ]
          },
          "metadata": {
            "tags": [],
            "needs_background": "light"
          }
        }
      ]
    },
    {
      "cell_type": "code",
      "metadata": {
        "colab": {
          "base_uri": "https://localhost:8080/",
          "height": 279
        },
        "id": "j6sPJAdG3WXR",
        "outputId": "01cbbbf6-d616-4a23-adfc-efe800934fdb"
      },
      "source": [
        "fig = sm.qqplot(F)\n",
        "plt.show()"
      ],
      "execution_count": null,
      "outputs": [
        {
          "output_type": "display_data",
          "data": {
            "image/png": "[encoded data removed]",
            "text/plain": [
              "<Figure size 432x288 with 1 Axes>"
            ]
          },
          "metadata": {
            "tags": [],
            "needs_background": "light"
          }
        }
      ]
    },
    {
      "cell_type": "code",
      "metadata": {
        "colab": {
          "base_uri": "https://localhost:8080/",
          "height": 279
        },
        "id": "E93Xcz4T3XuX",
        "outputId": "edd7f94a-f4e6-410f-e3e1-b3577cf076a8"
      },
      "source": [
        "fig = sm.qqplot(A)\n",
        "plt.show()"
      ],
      "execution_count": null,
      "outputs": [
        {
          "output_type": "display_data",
          "data": {
            "image/png": "[encoded data removed]",
            "text/plain": [
              "<Figure size 432x288 with 1 Axes>"
            ]
          },
          "metadata": {
            "tags": [],
            "needs_background": "light"
          }
        }
      ]
    }
  ]
}